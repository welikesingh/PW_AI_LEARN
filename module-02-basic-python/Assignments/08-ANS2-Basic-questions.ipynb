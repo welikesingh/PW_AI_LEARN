{
 "cells": [
  {
   "cell_type": "code",
   "execution_count": 6,
   "metadata": {},
   "outputs": [
    {
     "name": "stdout",
     "output_type": "stream",
     "text": [
      "Hello World\n"
     ]
    }
   ],
   "source": [
    "print(\"Hello World\")"
   ]
  },
  {
   "cell_type": "code",
   "execution_count": 2,
   "metadata": {},
   "outputs": [
    {
     "name": "stdout",
     "output_type": "stream",
     "text": [
      "Balwant Singh\n"
     ]
    }
   ],
   "source": [
    "#write python program that display your name and age\n",
    "name=input(\"Enter your name\")\n",
    "print(name)"
   ]
  },
  {
   "cell_type": "code",
   "execution_count": 9,
   "metadata": {},
   "outputs": [
    {
     "name": "stdout",
     "output_type": "stream",
     "text": [
      "01/10/1985\n"
     ]
    }
   ],
   "source": [
    "dob=input(\"Please enter your Date of Birth:\")\n",
    "print(dob)"
   ]
  },
  {
   "cell_type": "code",
   "execution_count": 10,
   "metadata": {},
   "outputs": [
    {
     "name": "stdout",
     "output_type": "stream",
     "text": [
      "['False', 'None', 'True', 'and', 'as', 'assert', 'async', 'await', 'break', 'class', 'continue', 'def', 'del', 'elif', 'else', 'except', 'finally', 'for', 'from', 'global', 'if', 'import', 'in', 'is', 'lambda', 'nonlocal', 'not', 'or', 'pass', 'raise', 'return', 'try', 'while', 'with', 'yield']\n"
     ]
    }
   ],
   "source": [
    "# Write code to print all the pre-defined keywords in Python using the keyword library\n",
    "import keyword\n",
    "\n",
    "# Print all Python keywords\n",
    "print(keyword.kwlist)"
   ]
  },
  {
   "cell_type": "code",
   "execution_count": 15,
   "metadata": {},
   "outputs": [
    {
     "name": "stdout",
     "output_type": "stream",
     "text": [
      "user entered 'for' is key word\n"
     ]
    }
   ],
   "source": [
    "#Write a program that checks if a given word is a Python keyword0\n",
    "\n",
    "import keyword\n",
    "\n",
    "kw_list=keyword.kwlist\n",
    "given_word=input(\"Enter key work of python for verification\")\n",
    "if given_word in kw_list:\n",
    "  print(f\"user entered '{given_word}' is key word\")\n",
    "else:\n",
    "  print(f\"user entered '{given_word}' is NOT key word\")"
   ]
  },
  {
   "cell_type": "code",
   "execution_count": 21,
   "metadata": {},
   "outputs": [
    {
     "name": "stdout",
     "output_type": "stream",
     "text": [
      "[1, 2, '3', True]\n",
      "[1, 2, 4, True]\n",
      "2\n"
     ]
    },
    {
     "ename": "TypeError",
     "evalue": "'tuple' object does not support item assignment",
     "output_type": "error",
     "traceback": [
      "\u001b[1;31m---------------------------------------------------------------------------\u001b[0m",
      "\u001b[1;31mTypeError\u001b[0m                                 Traceback (most recent call last)",
      "Cell \u001b[1;32mIn[21], line 13\u001b[0m\n\u001b[0;32m     11\u001b[0m b_tup\u001b[38;5;241m=\u001b[39m(\u001b[38;5;241m1\u001b[39m,\u001b[38;5;241m2\u001b[39m,\u001b[38;5;124m'\u001b[39m\u001b[38;5;124mstr1\u001b[39m\u001b[38;5;124m'\u001b[39m)\n\u001b[0;32m     12\u001b[0m \u001b[38;5;28mprint\u001b[39m(b_tup[\u001b[38;5;241m1\u001b[39m])\n\u001b[1;32m---> 13\u001b[0m \u001b[43mb_tup\u001b[49m\u001b[43m[\u001b[49m\u001b[38;5;241;43m1\u001b[39;49m\u001b[43m]\u001b[49m\u001b[38;5;241m=\u001b[39m\u001b[38;5;124m'\u001b[39m\u001b[38;5;124mstr2\u001b[39m\u001b[38;5;124m'\u001b[39m\n",
      "\u001b[1;31mTypeError\u001b[0m: 'tuple' object does not support item assignment"
     ]
    }
   ],
   "source": [
    "#Create a list and tuple in Python, and demonstrate how attempting to change an element works differently for each\n",
    "\n",
    "#List\n",
    "a_list=[1,2,\"3\",True]\n",
    "print(a_list)\n",
    "a_list[2]=4\n",
    "print(a_list)\n",
    "\n",
    "\n",
    "#tuple\n",
    "b_tup=(1,2,'str1')\n",
    "print(b_tup[1])\n",
    "b_tup[1]='str2'"
   ]
  },
  {
   "cell_type": "markdown",
   "metadata": {},
   "source": [
    "\n",
    "\n",
    " "
   ]
  },
  {
   "cell_type": "code",
   "execution_count": null,
   "metadata": {},
   "outputs": [
    {
     "name": "stdout",
     "output_type": "stream",
     "text": [
      "<class 'int'>     <class 'str'>\n",
      "Before modifying immutable_arg: 10  id:  140719372520152\n",
      "After modifying immutable_arg: 15  id:  140719372520312\n",
      "Before modifying immutable_arg: abc  id:  140719371434040\n",
      "After modifying immutable_arg: cdf  id:  1951147409296\n",
      "Before modifying mutable_arg: [1, 2, 3]\n",
      "After modifying mutable_arg: [1, 2, 3, 4]\n",
      "Outside the function:\n",
      "immutable_value: abc 140719371434040\n",
      "immutable_value: 10 140719372520152\n",
      "mutable_value: [1, 2, 3, 4]\n"
     ]
    }
   ],
   "source": [
    "#Write a function to demonstrate the behavior of mutable and immutable arguments\n",
    "\n",
    "'''How Immutability Works: When you \"modify\" an immutable object, a new object is created instead of modifying \n",
    "the original one. This means that the original object remains unchanged, and a reference to a new object is returned.\n",
    "\n",
    "Immutable objects (like  str, tuple) cannot be changed in place. Any modification creates a new object.\n",
    "Mutable objects (like list, dict, set) can be changed in place, so modifications inside the function affect the original object.\n",
    "\n",
    "'''\n",
    "\n",
    "def demonstrate_mutability(immutable_arg, mutable_arg,immutable_value2):\n",
    "    # Modifying the immutable argument (does not change the original)\n",
    "    print(\"Before modifying immutable_arg:\", immutable_arg,\" id: \",id(immutable_arg))\n",
    "    immutable_arg += 5\n",
    "    print(\"After modifying immutable_arg:\", immutable_arg,\" id: \",id(immutable_arg))  # This is a new value, original argument remains unchanged\n",
    "\n",
    "\n",
    "    print(\"Before modifying immutable_arg:\", immutable_value2,\" id: \",id(immutable_value2))\n",
    "    immutable_value2 ='cdf'\n",
    "    print(\"After modifying immutable_arg:\", immutable_value2,\" id: \",id(immutable_value2))  # This is a new value, original argument remains unchanged\n",
    "\n",
    "\n",
    "\n",
    "    # Modifying the mutable argument (changes the original)\n",
    "    print(\"Before modifying mutable_arg:\", mutable_arg)\n",
    "    mutable_arg.append(4)  # Modifying the mutable list by adding an element\n",
    "    print(\"After modifying mutable_arg:\", mutable_arg)  # The original list is changed\n",
    "\n",
    "# Example usage\n",
    "immutable_value = 10\n",
    "immutable_value2 = 'abc'\n",
    "\n",
    "\n",
    "mutable_value = [1, 2, 3]\n",
    "print(type(immutable_value), \"   \", type(immutable_value2))\n",
    "\n",
    "demonstrate_mutability(immutable_value, mutable_value,immutable_value2)\n",
    "\n",
    "# Printing outside the function to see the final values\n",
    "print(\"Outside the function:\")\n",
    "print(\"immutable_value:\", immutable_value2,id(immutable_value2)) \n",
    "print(\"immutable_value:\", immutable_value,id(immutable_value))  # Immutable value is unchanged\n",
    "print(\"mutable_value:\", mutable_value)  # Mutable value is modified\n"
   ]
  },
  {
   "cell_type": "code",
   "execution_count": 31,
   "metadata": {},
   "outputs": [
    {
     "name": "stdout",
     "output_type": "stream",
     "text": [
      "x < y and y < z is True (x=10, y=20, z=30)\n",
      "x > y or y < z is True (x=10, y=20, z=30)\n",
      "not (x > y) is True (x=10, y=20)\n",
      "((x < y and y < z) or (z == 30)) is True (x=10, y=20, z=30)\n"
     ]
    }
   ],
   "source": [
    "#Write a program to demonstrate the use of logical operators\n",
    "\n",
    "# Define some variables for testing\n",
    "x = 10\n",
    "y = 20\n",
    "z = 30\n",
    "\n",
    "# Using 'and' operator: Returns True if both conditions are True\n",
    "if x < y and y < z:\n",
    "    print(f\"x < y and y < z is True (x={x}, y={y}, z={z})\")\n",
    "else:\n",
    "    print(f\"x < y and y < z is False (x={x}, y={y}, z={z})\")\n",
    "\n",
    "# Using 'or' operator: Returns True if at least one condition is True\n",
    "if x > y or y < z:\n",
    "    print(f\"x > y or y < z is True (x={x}, y={y}, z={z})\")\n",
    "else:\n",
    "    print(f\"x > y or y < z is False (x={x}, y={y}, z={z})\")\n",
    "\n",
    "# Using 'not' operator: Inverts the truth value of the condition\n",
    "if not (x > y):\n",
    "    print(f\"not (x > y) is True (x={x}, y={y})\")\n",
    "else:\n",
    "    print(f\"not (x > y) is False (x={x}, y={y})\")\n",
    "\n",
    "# Combining logical operators\n",
    "if (x < y and y < z) or (z == 30):\n",
    "    print(f\"((x < y and y < z) or (z == 30)) is True (x={x}, y={y}, z={z})\")\n",
    "else:\n",
    "    print(f\"((x < y and y < z) or (z == 30)) is False (x={x}, y={y}, z={z})\")"
   ]
  },
  {
   "cell_type": "code",
   "execution_count": 33,
   "metadata": {},
   "outputs": [
    {
     "name": "stdout",
     "output_type": "stream",
     "text": [
      "<class 'str'>\n",
      "<class 'str'>\n",
      "<class 'str'>\n",
      "<class 'str'>\n",
      "<class 'int'>\n",
      "<class 'float'>\n"
     ]
    }
   ],
   "source": [
    "#Write a Python program to convert user input from string to integer, float, and boolean types\n",
    "\n",
    "astring=input(\"Enter String:\")\n",
    "bint=input(\"Enter integer:\")\n",
    "cfloat=input(\"Enter float:\")\n",
    "\n",
    "print(type(astring))\n",
    "print(type(bint))\n",
    "print(type(cfloat))\n",
    "\n",
    "new_str=str(astring)\n",
    "new_int=int(bint)\n",
    "new_float=float(cfloat)\n",
    "\n",
    "print(type(new_str))\n",
    "print(type(new_int))\n",
    "print(type(new_float))\n"
   ]
  },
  {
   "cell_type": "code",
   "execution_count": 37,
   "metadata": {},
   "outputs": [
    {
     "name": "stdout",
     "output_type": "stream",
     "text": [
      "Original List: ['10', '20', '30.5', '40.7', '50']\n",
      "List with Integer elements: [10, 20, 30, 40, 50]\n",
      "List with Float elements: [10.0, 20.0, 30.5, 40.7, 50.0]\n",
      "List with String elements: ['10', '20', '30.5', '40.7', '50']\n"
     ]
    }
   ],
   "source": [
    "#Write code to demonstrate type casting with list elements\n",
    "# 1  #### List with different types of elements (string, float, etc.)\n",
    "original_list = [\"10\", \"20\", \"30.5\", \"40.7\", \"50\"]\n",
    "\n",
    "# Convert all elements to integers (using type casting)\n",
    "int_list = [int(float(x)) if '.' in x else int(x) for x in original_list]\n",
    "# Display the results\n",
    "print(\"Original List:\", original_list)\n",
    "print(\"List with Integer elements:\", int_list)\n",
    "\n",
    "\n",
    "# Convert all elements to floats\n",
    "float_list = [float(x) for x in original_list]\n",
    "print(\"List with Float elements:\", float_list)\n",
    "\n",
    "\n",
    "\n",
    "# Convert all elements to strings\n",
    "str_list = [str(x) for x in original_list]\n",
    "print(\"List with String elements:\", str_list)"
   ]
  },
  {
   "cell_type": "code",
   "execution_count": 39,
   "metadata": {},
   "outputs": [
    {
     "name": "stdout",
     "output_type": "stream",
     "text": [
      "The number -20.0 is negative.\n"
     ]
    }
   ],
   "source": [
    "#Write a program that checks if a number is positive, negative, or zero\n",
    "\n",
    "# Function to check if a number is positive, negative, or zero\n",
    "def check_number(num):\n",
    "    if num > 0:\n",
    "        print(f\"The number {num} is positive.\")\n",
    "    elif num < 0:\n",
    "        print(f\"The number {num} is negative.\")\n",
    "    else:\n",
    "        print(f\"The number {num} is zero.\")\n",
    "\n",
    "# Input from the user\n",
    "number = float(input(\"Enter a number: \"))\n",
    "\n",
    "# Call the function to check the number\n",
    "check_number(number)\n"
   ]
  },
  {
   "cell_type": "code",
   "execution_count": 42,
   "metadata": {},
   "outputs": [
    {
     "name": "stdout",
     "output_type": "stream",
     "text": [
      "1\n",
      "2\n",
      "3\n",
      "4\n",
      "5\n",
      "6\n",
      "7\n",
      "8\n",
      "9\n",
      "10\n",
      "11\n",
      "12\n",
      "13\n",
      "14\n",
      "15\n",
      "16\n",
      "17\n",
      "18\n",
      "19\n",
      "20\n",
      "21\n",
      "22\n",
      "23\n",
      "24\n",
      "25\n",
      "26\n",
      "27\n",
      "28\n",
      "29\n",
      "30\n",
      "31\n",
      "32\n",
      "33\n",
      "34\n",
      "35\n",
      "36\n",
      "37\n",
      "38\n",
      "39\n",
      "40\n",
      "41\n",
      "42\n",
      "43\n",
      "44\n",
      "45\n",
      "46\n",
      "47\n",
      "48\n",
      "49\n",
      "50\n",
      "51\n",
      "52\n",
      "53\n",
      "54\n",
      "55\n",
      "56\n",
      "57\n",
      "58\n",
      "59\n",
      "60\n",
      "61\n",
      "62\n",
      "63\n",
      "64\n",
      "65\n",
      "66\n",
      "67\n",
      "68\n",
      "69\n",
      "70\n",
      "71\n",
      "72\n",
      "73\n",
      "74\n",
      "75\n",
      "76\n",
      "77\n",
      "78\n",
      "79\n",
      "80\n",
      "81\n",
      "82\n",
      "83\n",
      "84\n",
      "85\n",
      "86\n",
      "87\n",
      "88\n",
      "89\n",
      "90\n",
      "91\n",
      "92\n",
      "93\n",
      "94\n",
      "95\n",
      "96\n",
      "97\n",
      "98\n",
      "99\n",
      "100\n"
     ]
    }
   ],
   "source": [
    "# Write a for loop to print numbers from 1 to 100\n",
    "for i in range(100):\n",
    "    print(i+1)"
   ]
  },
  {
   "cell_type": "code",
   "execution_count": 44,
   "metadata": {},
   "outputs": [
    {
     "name": "stdout",
     "output_type": "stream",
     "text": [
      "2\n",
      "4\n",
      "6\n",
      "8\n",
      "10\n",
      "12\n",
      "14\n",
      "16\n",
      "18\n",
      "20\n",
      "22\n",
      "24\n",
      "26\n",
      "28\n",
      "30\n",
      "32\n",
      "34\n",
      "36\n",
      "38\n",
      "40\n",
      "42\n",
      "44\n",
      "46\n",
      "48\n",
      "50\n",
      "52\n",
      "54\n",
      "56\n",
      "58\n",
      "60\n",
      "62\n",
      "64\n",
      "66\n",
      "68\n",
      "70\n",
      "72\n",
      "74\n",
      "76\n",
      "78\n",
      "80\n",
      "82\n",
      "84\n",
      "86\n",
      "88\n",
      "90\n",
      "92\n",
      "94\n",
      "96\n",
      "98\n",
      "100\n",
      "102\n",
      "104\n",
      "106\n",
      "108\n",
      "110\n",
      "112\n",
      "114\n",
      "116\n",
      "118\n",
      "120\n",
      "122\n",
      "124\n",
      "126\n",
      "128\n",
      "130\n",
      "132\n",
      "134\n",
      "136\n",
      "138\n",
      "140\n",
      "142\n",
      "144\n",
      "146\n",
      "148\n",
      "150\n",
      "152\n",
      "154\n",
      "156\n",
      "158\n",
      "160\n",
      "162\n",
      "164\n",
      "166\n",
      "168\n",
      "170\n",
      "172\n",
      "174\n",
      "176\n",
      "178\n",
      "180\n",
      "182\n",
      "184\n",
      "186\n",
      "188\n",
      "190\n",
      "192\n",
      "194\n",
      "196\n",
      "198\n",
      "200\n",
      "202\n",
      "204\n",
      "206\n",
      "208\n",
      "210\n",
      "212\n",
      "214\n",
      "216\n",
      "218\n",
      "220\n",
      "222\n",
      "224\n",
      "226\n",
      "228\n",
      "230\n",
      "232\n",
      "234\n",
      "236\n",
      "238\n",
      "240\n",
      "242\n",
      "244\n",
      "246\n",
      "248\n",
      "250\n",
      "252\n",
      "254\n",
      "256\n",
      "258\n",
      "260\n",
      "262\n",
      "264\n",
      "266\n",
      "268\n",
      "270\n",
      "272\n",
      "274\n",
      "276\n",
      "278\n",
      "280\n",
      "282\n",
      "284\n",
      "286\n",
      "288\n",
      "290\n",
      "292\n",
      "294\n",
      "296\n",
      "298\n",
      "300\n",
      "302\n",
      "304\n",
      "306\n",
      "308\n",
      "310\n",
      "312\n",
      "314\n",
      "316\n",
      "318\n",
      "320\n",
      "322\n",
      "324\n",
      "326\n",
      "328\n",
      "330\n",
      "332\n",
      "334\n",
      "336\n",
      "338\n",
      "340\n",
      "342\n",
      "344\n",
      "346\n",
      "348\n",
      "350\n",
      "352\n",
      "354\n",
      "356\n",
      "358\n",
      "360\n",
      "362\n",
      "364\n",
      "366\n",
      "368\n",
      "370\n",
      "372\n",
      "374\n",
      "376\n",
      "378\n",
      "380\n",
      "382\n",
      "384\n",
      "386\n",
      "388\n",
      "390\n",
      "392\n",
      "394\n",
      "396\n",
      "398\n",
      "400\n",
      "402\n",
      "404\n",
      "406\n",
      "408\n",
      "410\n",
      "412\n",
      "414\n",
      "416\n",
      "418\n",
      "420\n",
      "422\n",
      "424\n",
      "426\n",
      "428\n",
      "430\n",
      "432\n",
      "434\n",
      "436\n",
      "438\n",
      "440\n",
      "442\n",
      "444\n",
      "446\n",
      "448\n",
      "450\n",
      "452\n",
      "454\n",
      "456\n",
      "458\n",
      "460\n",
      "462\n",
      "464\n",
      "466\n",
      "468\n",
      "470\n",
      "472\n",
      "474\n",
      "476\n",
      "478\n",
      "480\n",
      "482\n",
      "484\n",
      "486\n",
      "488\n",
      "490\n",
      "492\n",
      "494\n",
      "496\n",
      "498\n",
      "500\n"
     ]
    }
   ],
   "source": [
    "# Write a Python program to find the sum of all even numbers between 1 and 500\n",
    "for i in range(1,501,1):\n",
    "    if i%2 == 0: \n",
    "      print(i)"
   ]
  },
  {
   "cell_type": "code",
   "execution_count": 50,
   "metadata": {},
   "outputs": [
    {
     "name": "stdout",
     "output_type": "stream",
     "text": [
      "tnawlaB\n",
      "Reversed string: tnawlaB\n"
     ]
    }
   ],
   "source": [
    "#Write a program to reverse a string using a while loop\n",
    "a=\"Balwant\"\n",
    "print(a[::-1])\n",
    "\n",
    "\n",
    "\n",
    "# Function to reverse a string using a loop\n",
    "def reverse_string_loop(input_string):\n",
    "    reversed_string = \"\"\n",
    "    for char in input_string:\n",
    "        reversed_string = char + reversed_string  # Prepend each character\n",
    "    return reversed_string\n",
    "\n",
    "# Input from the user\n",
    "user_input = 'Balwant'  # input(\"Enter a string to reverse: \")\n",
    "\n",
    "# Call the function and display the reversed string\n",
    "reversed_output = reverse_string_loop(user_input)\n",
    "print(\"Reversed string:\", reversed_output)\n"
   ]
  },
  {
   "cell_type": "code",
   "execution_count": 56,
   "metadata": {},
   "outputs": [
    {
     "name": "stdout",
     "output_type": "stream",
     "text": [
      "The factorial of 3 is 6\n"
     ]
    }
   ],
   "source": [
    "def factorial(num):\n",
    "    if num ==0 or num ==1:\n",
    "        return 1\n",
    "    else:\n",
    "        return (num*factorial(num-1))\n",
    "\n",
    "number=3\n",
    "print(f\"The factorial of {number} is {factorial(number)}\")"
   ]
  }
 ],
 "metadata": {
  "kernelspec": {
   "display_name": "Python 3",
   "language": "python",
   "name": "python3"
  },
  "language_info": {
   "codemirror_mode": {
    "name": "ipython",
    "version": 3
   },
   "file_extension": ".py",
   "mimetype": "text/x-python",
   "name": "python",
   "nbconvert_exporter": "python",
   "pygments_lexer": "ipython3",
   "version": "3.12.2"
  }
 },
 "nbformat": 4,
 "nbformat_minor": 2
}
