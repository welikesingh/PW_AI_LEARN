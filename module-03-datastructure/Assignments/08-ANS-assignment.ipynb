{
 "cells": [
  {
   "cell_type": "code",
   "execution_count": 1,
   "metadata": {},
   "outputs": [
    {
     "data": {
      "text/plain": [
       "'Balwant'"
      ]
     },
     "execution_count": 1,
     "metadata": {},
     "output_type": "execute_result"
    }
   ],
   "source": [
    "#1: write a code to create string with your name and print\n",
    "string1 = \"Balwant\"\n",
    "string1"
   ]
  },
  {
   "cell_type": "code",
   "execution_count": 2,
   "metadata": {},
   "outputs": [
    {
     "name": "stdout",
     "output_type": "stream",
     "text": [
      "7\n"
     ]
    }
   ],
   "source": [
    "#2: write code to print length of string\n",
    "string1 = \"Balwant\"\n",
    "print(len(string1))"
   ]
  },
  {
   "cell_type": "code",
   "execution_count": 4,
   "metadata": {},
   "outputs": [
    {
     "name": "stdout",
     "output_type": "stream",
     "text": [
      "Pyt\n"
     ]
    }
   ],
   "source": [
    "#3: write a code to slice the first 3 character from string \"Python Programming\"\n",
    "string1=\"Python Programming\"\n",
    "print(string1[:3])"
   ]
  },
  {
   "cell_type": "code",
   "execution_count": 5,
   "metadata": {},
   "outputs": [
    {
     "data": {
      "text/plain": [
       "'HELLO'"
      ]
     },
     "execution_count": 5,
     "metadata": {},
     "output_type": "execute_result"
    }
   ],
   "source": [
    "#4 write a code to convert string \"hello\" to uppercase\n",
    "string1=\"hello\"\n",
    "string1.upper()"
   ]
  },
  {
   "cell_type": "code",
   "execution_count": 10,
   "metadata": {},
   "outputs": [
    {
     "name": "stdout",
     "output_type": "stream",
     "text": [
      "i like orange\n"
     ]
    }
   ],
   "source": [
    "#5 write a code to replace string 'apple' to 'orange' in string 'i like apple'\n",
    "string1= \"i like apple\"\n",
    "if 'apple' in string1:\n",
    "    string1= string1.replace('apple','orange')\n",
    "    print( string1)\n"
   ]
  },
  {
   "cell_type": "code",
   "execution_count": null,
   "metadata": {},
   "outputs": [
    {
     "name": "stdout",
     "output_type": "stream",
     "text": [
      "[1, 2, 3, 4, 5]\n"
     ]
    }
   ],
   "source": [
    "#6  write a code to create list with numbers 1 to 5 and print it\n",
    "print(list(range(1, 6)))"
   ]
  },
  {
   "cell_type": "code",
   "execution_count": 18,
   "metadata": {},
   "outputs": [
    {
     "name": "stdout",
     "output_type": "stream",
     "text": [
      "[1, 2, 3, 4, 10]\n"
     ]
    }
   ],
   "source": [
    "#7  write a code to append number 10 to list [1,2,3,4]\n",
    "n=10\n",
    "lst=[1,2,3,4]\n",
    "lst.append(n)\n",
    "print(lst)"
   ]
  },
  {
   "cell_type": "code",
   "execution_count": 19,
   "metadata": {},
   "outputs": [
    {
     "name": "stdout",
     "output_type": "stream",
     "text": [
      "[1, 2, 4]\n"
     ]
    }
   ],
   "source": [
    "#8 write a code to remove number 3 from list  [1,2,3,4]\n",
    "lst2= [1,2,3,4]\n",
    "lst2.remove(3)\n",
    "print(lst2)"
   ]
  },
  {
   "cell_type": "code",
   "execution_count": 20,
   "metadata": {},
   "outputs": [
    {
     "name": "stdout",
     "output_type": "stream",
     "text": [
      "b\n"
     ]
    }
   ],
   "source": [
    "#9 write a code to access second element in list ['a','b','c','d']\n",
    "lst3=['a','b','c','d']\n",
    "print(lst3[1])"
   ]
  },
  {
   "cell_type": "code",
   "execution_count": 21,
   "metadata": {},
   "outputs": [
    {
     "name": "stdout",
     "output_type": "stream",
     "text": [
      "[50, 40, 30, 20, 10]\n"
     ]
    }
   ],
   "source": [
    "#10  write a code to reverse list [10,20,30,40,50]\n",
    "\n",
    "lst4= [10,20,30,40,50]\n",
    "print(lst4[::-1])"
   ]
  },
  {
   "cell_type": "code",
   "execution_count": 32,
   "metadata": {},
   "outputs": [
    {
     "name": "stdout",
     "output_type": "stream",
     "text": [
      "(10, 20, 30)\n",
      "(50, 10, 20, 30)\n"
     ]
    }
   ],
   "source": [
    "#11 write a code to create a tuple with element 10,20,30 and print it\n",
    "lst5=[10,20,30]\n",
    "\n",
    "tup5=tuple(lst5)\n",
    "print(tup5)\n",
    "\n",
    "tup5_append=  tuple( [50]  + lst5)\n",
    "print(tup5_append)"
   ]
  },
  {
   "cell_type": "code",
   "execution_count": 34,
   "metadata": {},
   "outputs": [
    {
     "name": "stdout",
     "output_type": "stream",
     "text": [
      "apple\n"
     ]
    }
   ],
   "source": [
    "#12 write a code to access first element of tuple ('apple','banana','cherry')\n",
    "tup12 = ('apple','banana','cherry')\n",
    "print(tup12[0])"
   ]
  },
  {
   "cell_type": "code",
   "execution_count": 42,
   "metadata": {},
   "outputs": [
    {
     "data": {
      "text/plain": [
       "3"
      ]
     },
     "execution_count": 42,
     "metadata": {},
     "output_type": "execute_result"
    }
   ],
   "source": [
    "#13 count how many time number 2 appear in tuple (1,2,3,2,4,2)\n",
    "tup13 = (1,2,3,2,4,2)\n",
    "tup13.count(2)\n"
   ]
  },
  {
   "cell_type": "code",
   "execution_count": 55,
   "metadata": {},
   "outputs": [
    {
     "data": {
      "text/plain": [
       "1"
      ]
     },
     "execution_count": 55,
     "metadata": {},
     "output_type": "execute_result"
    }
   ],
   "source": [
    "#14  write a code to find index of element cat in the tuple ('dog', 'cat', 'rabbit')\n",
    "tup14= ('dog', 'cat', 'rabbit')\n",
    "tup14.index('cat')"
   ]
  },
  {
   "cell_type": "code",
   "execution_count": null,
   "metadata": {},
   "outputs": [
    {
     "data": {
      "text/plain": [
       "True"
      ]
     },
     "execution_count": 54,
     "metadata": {},
     "output_type": "execute_result"
    }
   ],
   "source": [
    "#15 write a code to check if element banana  is in tuple ('apple','orange','banana')\n",
    "tup15=('apple','orange','banana')\n",
    "'banana' in tup15"
   ]
  },
  {
   "cell_type": "code",
   "execution_count": null,
   "metadata": {},
   "outputs": [
    {
     "name": "stdout",
     "output_type": "stream",
     "text": [
      "<class 'dict'>\n",
      "<class 'set'>\n",
      "<class 'set'>\n",
      "{1, 2, 3, 4, 5}\n"
     ]
    }
   ],
   "source": [
    "#16 write a code to create a set with element 1,2,3,4,5 and print it\n",
    "\n",
    "my_set = {}   # this create dictionary \n",
    "print(type(my_set))  \n",
    "#definin empty set \n",
    "empty_set = set()\n",
    "print(type(empty_set))\n",
    "#defining set with data\n",
    "my_set_data = {1, 2, 3}\n",
    "print(type(my_set_data))\n",
    "\n",
    "#Add element in set\n",
    "my_set_data.add(4)\n",
    "my_set_data.add(5) \n",
    "print(my_set_data)"
   ]
  },
  {
   "cell_type": "code",
   "execution_count": 58,
   "metadata": {},
   "outputs": [
    {
     "name": "stdout",
     "output_type": "stream",
     "text": [
      "{1, 2, 3, 4, 6}\n"
     ]
    }
   ],
   "source": [
    "#17 write a code to add element 6 to set {1,2,3,4}\n",
    "set_17= {1,2,3,4}\n",
    "set_17.add(6)\n",
    "print(set_17)\n"
   ]
  },
  {
   "cell_type": "code",
   "execution_count": 60,
   "metadata": {},
   "outputs": [
    {
     "name": "stdout",
     "output_type": "stream",
     "text": [
      "(10, 20, 30)\n"
     ]
    }
   ],
   "source": [
    "#18  write a code to create tuple with element 10,20,30 and print it \n",
    "\n",
    "list_18=[]\n",
    "list_18.append(10)\n",
    "list_18.append(20)\n",
    "list_18.append(30)\n",
    "\n",
    "tuple_18 = tuple(list_18)\n",
    "print(tuple_18)\n"
   ]
  },
  {
   "cell_type": "code",
   "execution_count": 61,
   "metadata": {},
   "outputs": [
    {
     "name": "stdout",
     "output_type": "stream",
     "text": [
      "apple\n"
     ]
    }
   ],
   "source": [
    "#19 write a code to access first element of tuple ('apple','banana','cherry')\n",
    "tuple_19=  ('apple','banana','cherry')\n",
    "print(tuple_19[0])"
   ]
  },
  {
   "cell_type": "code",
   "execution_count": 66,
   "metadata": {},
   "outputs": [
    {
     "name": "stdout",
     "output_type": "stream",
     "text": [
      "3\n",
      "3\n"
     ]
    }
   ],
   "source": [
    "#20 write a code to find ow many times number 2 appear in list (1,2,3,2,4,2)\n",
    "tuple_21 =  (1,2,3,2,4,2)\n",
    "print(tuple_21.count(2))\n",
    "\n",
    "list_21=list(tuple_21)\n",
    "print(list_21.count(2))"
   ]
  },
  {
   "cell_type": "code",
   "execution_count": 72,
   "metadata": {},
   "outputs": [
    {
     "name": "stdout",
     "output_type": "stream",
     "text": [
      "1\n",
      "1\n"
     ]
    }
   ],
   "source": [
    "#21  write a code to find index of element \"cat\" in the tuple (\"dog\",\"cat\",\"rabbit\")\n",
    "\n",
    "tuple_21= (\"dog\",\"cat\",\"rabbit\")\n",
    "k=0\n",
    "for i in tuple_21:\n",
    "    if i == \"cat\":\n",
    "        print(k)\n",
    "    k+=1\n",
    "\n",
    "#second approach\n",
    "print(tuple_21.index('cat'))"
   ]
  },
  {
   "cell_type": "code",
   "execution_count": 73,
   "metadata": {},
   "outputs": [
    {
     "data": {
      "text/plain": [
       "True"
      ]
     },
     "execution_count": 73,
     "metadata": {},
     "output_type": "execute_result"
    }
   ],
   "source": [
    "#22 write a code to check if \"banana\" is in tuple (\"apple\",\"orange\",\"banana\")\n",
    "tuple_22= (\"apple\",\"orange\",\"banana\")\n",
    "\"banana\" in tuple_22"
   ]
  },
  {
   "cell_type": "code",
   "execution_count": 74,
   "metadata": {},
   "outputs": [
    {
     "name": "stdout",
     "output_type": "stream",
     "text": [
      "{1, 2, 3, 4, 5}\n"
     ]
    }
   ],
   "source": [
    "#23 write a code to create set with element 1,2,3,4,5 and print it\n",
    "empty_set=set()\n",
    "empty_set.add(1)\n",
    "empty_set.add(2)\n",
    "empty_set.add(3)\n",
    "empty_set.add(4)\n",
    "empty_set.add(5)\n",
    "print(empty_set)"
   ]
  },
  {
   "cell_type": "code",
   "execution_count": 75,
   "metadata": {},
   "outputs": [
    {
     "name": "stdout",
     "output_type": "stream",
     "text": [
      "{1, 2, 3, 4, 6}\n"
     ]
    }
   ],
   "source": [
    "#24 write code to add element 6 to set {1,2,3,4}\n",
    "set_24={1,2,3,4}\n",
    "set_24.add(6)\n",
    "print(set_24)"
   ]
  }
 ],
 "metadata": {
  "kernelspec": {
   "display_name": "Python 3",
   "language": "python",
   "name": "python3"
  },
  "language_info": {
   "codemirror_mode": {
    "name": "ipython",
    "version": 3
   },
   "file_extension": ".py",
   "mimetype": "text/x-python",
   "name": "python",
   "nbconvert_exporter": "python",
   "pygments_lexer": "ipython3",
   "version": "3.12.2"
  }
 },
 "nbformat": 4,
 "nbformat_minor": 2
}
